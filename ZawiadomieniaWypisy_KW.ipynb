{
  "nbformat": 4,
  "nbformat_minor": 0,
  "metadata": {
    "colab": {
      "provenance": [],
      "collapsed_sections": [],
      "authorship_tag": "ABX9TyPUgXfoNm7EXOv7ogleA+k6",
      "include_colab_link": true
    },
    "kernelspec": {
      "name": "python3",
      "display_name": "Python 3"
    },
    "language_info": {
      "name": "python"
    }
  },
  "cells": [
    {
      "cell_type": "markdown",
      "metadata": {
        "id": "view-in-github",
        "colab_type": "text"
      },
      "source": [
        "<a href=\"https://colab.research.google.com/github/DamianKocemba/Split-Explore-Merge-Pdf-File/blob/main/ZawiadomieniaWypisy_KW.ipynb\" target=\"_parent\"><img src=\"https://colab.research.google.com/assets/colab-badge.svg\" alt=\"Open In Colab\"/></a>"
      ]
    },
    {
      "cell_type": "code",
      "source": [
        "# instalacja biblioteki\n",
        "#pip install PyPDF2"
      ],
      "metadata": {
        "id": "C4BVb7O60M4B"
      },
      "execution_count": 5,
      "outputs": []
    },
    {
      "cell_type": "code",
      "execution_count": 6,
      "metadata": {
        "id": "EWG-ZYxk382U"
      },
      "outputs": [],
      "source": [
        "from PyPDF2 import PdfFileReader, PdfFileWriter, PdfFileMerger\n",
        "import re\n",
        "import os"
      ]
    },
    {
      "cell_type": "code",
      "source": [
        "# definicja zmiennych (sciezek i nazw plikow)\n",
        "obreb = \"ZERKOW\"\n",
        "\n",
        "path = \"/content/ZAWIADOMIENIA_DO_KW/\"\n",
        "_zawiadomienia = 'Zawiadomienia_{}_KW.pdf'.format(obreb)\n",
        "_wypisy = \"Wypisy_{}.pdf\".format(obreb)"
      ],
      "metadata": {
        "id": "JR3MOphn4CBA"
      },
      "execution_count": 7,
      "outputs": []
    },
    {
      "cell_type": "code",
      "source": [
        "# utworzenie tymczasowych folderow\n",
        "if not os.path.exists(path):\n",
        "    os.mkdir(path)\n",
        "\n",
        "if not os.path.exists(path+\"zawiadomienia_temp\"):\n",
        "    os.mkdir(path+\"zawiadomienia_temp\")\n",
        "\n",
        "if not os.path.exists(path+\"wypisy_temp\"):\n",
        "    os.mkdir(path+\"wypisy_temp\")"
      ],
      "metadata": {
        "id": "MKPLI4I_4Fx_"
      },
      "execution_count": 8,
      "outputs": []
    },
    {
      "cell_type": "code",
      "source": [
        "# Teraz nalezy zaimportować pliki pdf z Zawiadomieniami i Wypisami"
      ],
      "metadata": {
        "id": "cvczrCWw8smQ"
      },
      "execution_count": 9,
      "outputs": []
    },
    {
      "cell_type": "code",
      "source": [
        "# ekstrakcja zawiadomien z pliku .pdf (po numerze jednostki rejestrowej)\n",
        "\n",
        "pdf_zaw = PdfFileReader(path+_zawiadomienia)\n",
        "key_text = 'Jednostka rejestrowa'\n",
        "\n",
        "zawiadomienia = {}\n",
        "for page in range(pdf_zaw.numPages):\n",
        "    PgObj_zaw = pdf_zaw.getPage(page)\n",
        "    Text_zaw = PgObj_zaw.extractText()\n",
        "    if re.search(key_text, Text_zaw):\n",
        "        print(\"nr strony: \", page+1)\n",
        "        jedn_rej = re.findall('[0-9]+ - Gruntowa', Text_zaw)\n",
        "        print(\"Jednostka rej.: \",jedn_rej[0].split()[0])\n",
        "        zawiadomienia[int(page)] =  \"zaw_G_\" + jedn_rej[0].split()[0]\n",
        "\n",
        "\n",
        "lista_stron_zaw = [s for s in zawiadomienia.keys()]\n",
        "\n",
        "for i in range(len(lista_stron_zaw)):\n",
        "    try:\n",
        "        output = PdfFileWriter()\n",
        "        for page_zaw in range(lista_stron_zaw[i],lista_stron_zaw[i+1]):\n",
        "            output.addPage(pdf_zaw.getPage(page_zaw))\n",
        "    except IndexError:\n",
        "        output = PdfFileWriter()\n",
        "        for page_zaw in range(lista_stron_zaw[i],pdf_zaw.getNumPages()):\n",
        "            output.addPage(pdf_zaw.getPage(page_zaw))\n",
        "    \n",
        "    with open(path+\"zawiadomienia_temp/\"+'{}.pdf'.format(zawiadomienia[lista_stron_zaw[i]]), 'wb') as f:\n",
        "            output.write(f)\n",
        "\n",
        "\n"
      ],
      "metadata": {
        "id": "etRB8zD04I3z"
      },
      "execution_count": null,
      "outputs": []
    },
    {
      "cell_type": "code",
      "source": [
        "# ekstrakcja wypisow z pliku .pdf (po numerze jednostki rejestrowej)\n",
        "\n",
        "pdf_wyp = PdfFileReader(path+_wypisy)\n",
        "\n",
        "wypisy = {}\n",
        "for page in range(pdf_wyp.numPages):\n",
        "    PgObj_wyp = pdf_wyp.getPage(page)\n",
        "    Text_wyp = PgObj_wyp.extractText()\n",
        "    if re.search(key_text, Text_wyp):\n",
        "        print(\"Nr strony: \",page+1)\n",
        "        jedn_rej_wyp = re.findall(\"G.[0-9]+\", Text_wyp)\n",
        "        print(\"Jednostka_rej.: \", jedn_rej_wyp)\n",
        "        wypisy[int(page)] = \"wyp_\" + jedn_rej_wyp[0].replace(\".\", \"_\")\n",
        "\n",
        "\n",
        "lista_stron_wyp = [z for z in wypisy.keys()]\n",
        "\n",
        "for j in range(len(lista_stron_wyp)):\n",
        "    try:\n",
        "        output_wyp = PdfFileWriter()\n",
        "        for page_wyp in range(lista_stron_wyp[j],lista_stron_wyp[j+1]):\n",
        "            output_wyp.addPage(pdf_wyp.getPage(page_wyp))\n",
        "    except IndexError:\n",
        "        output_wyp = PdfFileWriter()\n",
        "        for page_wyp in range(lista_stron_wyp[j],pdf_wyp.getNumPages()):\n",
        "            output_wyp.addPage(pdf_wyp.getPage(page_wyp))\n",
        "    \n",
        "    with open(path+\"wypisy_temp/\"+\"{}.pdf\".format(wypisy[lista_stron_wyp[j]]), 'wb') as f2:\n",
        "        output_wyp.write(f2)\n"
      ],
      "metadata": {
        "id": "D7RpTofQ4NuS"
      },
      "execution_count": null,
      "outputs": []
    },
    {
      "cell_type": "code",
      "source": [
        "# utworzenie list zawiadomien i wypisow\n",
        "\n",
        "lista_zawiadomien = [z.replace(\"zaw_\",\"\") for z in os.listdir(path+\"/zawiadomienia_temp\")]\n",
        "\n",
        "lista_wypisow = os.listdir(path+\"/wypisy_temp\")\n",
        "lista_wypisow = sorted(lista_wypisow, key = lambda x: (int(re.sub('\\D','',x)),x))\n"
      ],
      "metadata": {
        "id": "LRwRXIwF4RVs"
      },
      "execution_count": 12,
      "outputs": []
    },
    {
      "cell_type": "code",
      "source": [
        "# polaczenie plikow w jeden\n",
        "\n",
        "merger = PdfFileMerger()\n",
        "\n",
        "for pdf_file_wyp in lista_wypisow:\n",
        "    #print(pdf_file_wyp)\n",
        "    print(\"*\"*30)\n",
        "    wypis = pdf_file_wyp.replace(\"wyp_\",\"\")\n",
        "    print(\"Wypis: \", wypis)\n",
        "    for pdf_file_zaw in os.listdir(path+\"/zawiadomienia_temp\"):\n",
        "        #print(pdf_file_zaw)\n",
        "        zawiadomienie = pdf_file_zaw.replace(\"zaw_\",\"\")\n",
        "        #print(\"Zawiadomienie: \", zawiadomienie)\n",
        "        if wypis == zawiadomienie:\n",
        "            merger.append(path+\"zawiadomienia_temp/\"+pdf_file_zaw)\n",
        "            merger.append(path+\"wypisy_temp/\"+pdf_file_wyp)\n",
        "        \n",
        "    if wypis not in lista_zawiadomien:\n",
        "        with open(path+\"brakujace_zawiadomienia.txt\",\"a\") as f:\n",
        "            f.write(wypis)\n",
        "\n",
        "merger.write(path+\"Zawiadomienia_Wypisy_{}.pdf\".format(obreb))\n",
        "merger.close"
      ],
      "metadata": {
        "id": "80zKZjQF5Uij"
      },
      "execution_count": null,
      "outputs": []
    },
    {
      "cell_type": "code",
      "source": [
        "# usuniecie folderow tymczasowych\n",
        "\n",
        "def delete_temp(directory):\n",
        "    for file in os.listdir(directory):\n",
        "        os.remove(directory+\"/\"+file)\n",
        "\n",
        "    os.rmdir(directory)\n",
        "\n",
        "delete_temp(path+\"/zawiadomienia_temp\")\n",
        "delete_temp(path+\"/wypisy_temp\")\n"
      ],
      "metadata": {
        "id": "WCtTYaQ95bAi"
      },
      "execution_count": 14,
      "outputs": []
    },
    {
      "cell_type": "code",
      "source": [
        "# Created by Damian Kocemba"
      ],
      "metadata": {
        "id": "kQFstgV04vE6"
      },
      "execution_count": 15,
      "outputs": []
    }
  ]
}